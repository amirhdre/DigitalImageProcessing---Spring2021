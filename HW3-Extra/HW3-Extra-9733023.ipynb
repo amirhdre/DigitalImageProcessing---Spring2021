{
 "cells": [
  {
   "cell_type": "code",
   "execution_count": 84,
   "id": "skilled-transcription",
   "metadata": {},
   "outputs": [],
   "source": [
    "import numpy as np\n",
    "import matplotlib.pyplot as plt"
   ]
  },
  {
   "cell_type": "code",
   "execution_count": 133,
   "id": "casual-polls",
   "metadata": {},
   "outputs": [
    {
     "name": "stdout",
     "output_type": "stream",
     "text": [
      "[[-1.+1.j  0.+1.j  1.+1.j]\n",
      " [-1.+0.j  0.+0.j  1.+0.j]\n",
      " [-1.-1.j  0.-1.j  1.-1.j]]\n"
     ]
    }
   ],
   "source": [
    "# a sample matrix for testing\n",
    "arr = np.zeros((3,3),dtype=complex)\n",
    "\n",
    "for j,valj in enumerate(range(1,-2,-1)):\n",
    "    for i,vali in enumerate(range(-1,2)):\n",
    "        arr[j,i]=complex(vali,valj)\n",
    "        \n",
    "print(arr)"
   ]
  },
  {
   "cell_type": "code",
   "execution_count": 171,
   "id": "herbal-motorcycle",
   "metadata": {},
   "outputs": [
    {
     "name": "stdout",
     "output_type": "stream",
     "text": [
      "[[-1.+1.j  0.+1.j  1.+1.j]\n",
      " [-1.+0.j  0.+0.j  1.+0.j]\n",
      " [-1.-1.j  0.-1.j  1.-1.j]]\n"
     ]
    }
   ],
   "source": [
    "# generate general matrix \n",
    "\n",
    "m = 1\n",
    "n = 2*m + 1\n",
    "\n",
    "arr = np.zeros((n,n),dtype=complex)\n",
    "u = int( (n-1)/2 )\n",
    "\n",
    "for j,valj in enumerate(range(u,-u-1,-1)):\n",
    "    for i,vali in enumerate(range(-u,u+1)):\n",
    "        arr[j,i]=complex(vali,valj)\n",
    "\n",
    "print(arr)"
   ]
  },
  {
   "cell_type": "code",
   "execution_count": 172,
   "id": "optional-identification",
   "metadata": {},
   "outputs": [
    {
     "name": "stdout",
     "output_type": "stream",
     "text": [
      "[[2. 1. 2.]\n",
      " [1. 0. 1.]\n",
      " [2. 1. 2.]]\n"
     ]
    },
    {
     "data": {
      "image/png": "[encoded data removed]",
      "text/plain": [
       "<Figure size 432x288 with 1 Axes>"
      ]
     },
     "metadata": {
      "needs_background": "light"
     },
     "output_type": "display_data"
    }
   ],
   "source": [
    "# set value for \n",
    "arr2 = np.zeros((n,n))\n",
    "\n",
    "for j in range(arr.shape[0]):\n",
    "    for i in range(arr.shape[1]):\n",
    "        arr2[j,i] = abs(np.real(arr[j,i]))+abs(np.imag(arr[j,i]))\n",
    "        \n",
    "print(arr2)\n",
    "plt.imshow(arr2);plt.show();"
   ]
  },
  {
   "cell_type": "code",
   "execution_count": 177,
   "id": "integrated-cooperative",
   "metadata": {},
   "outputs": [],
   "source": [
    "fact = lambda n:1 if n==0 else n*fact(n-1)\n",
    "\n",
    "# for example if n=3, max L_i will be L_2\n",
    "# so L0 = 2! * 4^2 * L_2\n",
    "# L_2 is equal to 1, why? (it's furthest L)\n",
    "# so L0 = 2! * 4^2\n",
    "\n",
    "L_0 = fact(n-1) * 4**(n-1)\n",
    "\n",
    "# set final values for \n",
    "arr3 = np.zeros((n,n))\n",
    "\n",
    "# after having L_0, all L_i (i=1:n-1) can be calculated\n",
    "# L_n = 1/(n! * 4^n) * L_0\n",
    "for j in range(arr.shape[0]):\n",
    "    for i in range(arr.shape[1]):\n",
    "        arr3[j,i] = L_0/(fact(arr2[j,i]) * 4**arr2[j,i])"
   ]
  },
  {
   "cell_type": "code",
   "execution_count": 178,
   "id": "neutral-timothy",
   "metadata": {},
   "outputs": [
    {
     "data": {
      "text/plain": [
       "array([[ 1.,  8.,  1.],\n",
       "       [ 8., 32.,  8.],\n",
       "       [ 1.,  8.,  1.]])"
      ]
     },
     "execution_count": 178,
     "metadata": {},
     "output_type": "execute_result"
    }
   ],
   "source": [
    "arr3"
   ]
  }
 ],
 "metadata": {
  "kernelspec": {
   "display_name": "Python 3",
   "language": "python",
   "name": "python3"
  },
  "language_info": {
   "codemirror_mode": {
    "name": "ipython",
    "version": 3
   },
   "file_extension": ".py",
   "mimetype": "text/x-python",
   "name": "python",
   "nbconvert_exporter": "python",
   "pygments_lexer": "ipython3",
   "version": "3.8.8"
  }
 },
 "nbformat": 4,
 "nbformat_minor": 5
}
