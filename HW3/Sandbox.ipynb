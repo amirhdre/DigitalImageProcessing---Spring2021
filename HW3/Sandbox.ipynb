{
 "cells": [
  {
   "cell_type": "code",
   "execution_count": 21,
   "id": "driven-australian",
   "metadata": {},
   "outputs": [],
   "source": [
    "import numpy as np"
   ]
  },
  {
   "cell_type": "code",
   "execution_count": null,
   "id": "eligible-adelaide",
   "metadata": {},
   "outputs": [],
   "source": []
  },
  {
   "cell_type": "code",
   "execution_count": 22,
   "id": "solid-greene",
   "metadata": {},
   "outputs": [
    {
     "name": "stdout",
     "output_type": "stream",
     "text": [
      "((0, 0), 0.1111111111111111)\n",
      "((0, 1), 0.1111111111111111)\n",
      "((0, 2), 0.1111111111111111)\n",
      "((1, 0), 0.1111111111111111)\n",
      "((1, 1), 0.1111111111111111)\n",
      "((1, 2), 0.1111111111111111)\n",
      "((2, 0), 0.1111111111111111)\n",
      "((2, 1), 0.1111111111111111)\n",
      "((2, 2), 0.1111111111111111)\n"
     ]
    }
   ],
   "source": [
    "m = np.ones((3,3))/9\n",
    "x = np.ndenumerate(m)\n",
    "\n",
    "for i in x:\n",
    "    print(i)"
   ]
  },
  {
   "cell_type": "code",
   "execution_count": 23,
   "id": "marine-credit",
   "metadata": {},
   "outputs": [
    {
     "data": {
      "text/plain": [
       "array([[1., 1., 1.],\n",
       "       [1., 1., 1.],\n",
       "       [1., 1., 1.]])"
      ]
     },
     "execution_count": 23,
     "metadata": {},
     "output_type": "execute_result"
    }
   ],
   "source": [
    "np.ones((3,3))"
   ]
  },
  {
   "cell_type": "code",
   "execution_count": 24,
   "id": "supreme-yellow",
   "metadata": {},
   "outputs": [
    {
     "data": {
      "text/plain": [
       "array([[ 9., 19.,  3.],\n",
       "       [ 7., -0., 21.],\n",
       "       [ 3., -4., 26.]])"
      ]
     },
     "execution_count": 24,
     "metadata": {},
     "output_type": "execute_result"
    }
   ],
   "source": [
    "a = np.round(np.random.randn(3,3)*20)\n",
    "a"
   ]
  },
  {
   "cell_type": "code",
   "execution_count": 25,
   "id": "about-preliminary",
   "metadata": {},
   "outputs": [
    {
     "data": {
      "text/plain": [
       "-4.0"
      ]
     },
     "execution_count": 25,
     "metadata": {},
     "output_type": "execute_result"
    }
   ],
   "source": [
    "np.min(a)\n"
   ]
  },
  {
   "cell_type": "code",
   "execution_count": 26,
   "id": "fabulous-mailman",
   "metadata": {},
   "outputs": [
    {
     "ename": "ValueError",
     "evalue": "operands could not be broadcast together with remapped shapes [original->remapped]: (2,2)  and requested shape (0,2)",
     "output_type": "error",
     "traceback": [
      "\u001b[1;31m---------------------------------------------------------------------------\u001b[0m",
      "\u001b[1;31mValueError\u001b[0m                                Traceback (most recent call last)",
      "\u001b[1;32m<ipython-input-26-3c5a551bb8c4>\u001b[0m in \u001b[0;36m<module>\u001b[1;34m\u001b[0m\n\u001b[0;32m     51\u001b[0m \u001b[0mimage\u001b[0m \u001b[1;33m=\u001b[0m \u001b[0mcv2\u001b[0m\u001b[1;33m.\u001b[0m\u001b[0mimread\u001b[0m\u001b[1;33m(\u001b[0m\u001b[1;34m\"retina.jpg\"\u001b[0m\u001b[1;33m,\u001b[0m \u001b[0mflags\u001b[0m\u001b[1;33m=\u001b[0m\u001b[0mcv2\u001b[0m\u001b[1;33m.\u001b[0m\u001b[0mIMREAD_GRAYSCALE\u001b[0m\u001b[1;33m)\u001b[0m\u001b[1;33m\u001b[0m\u001b[1;33m\u001b[0m\u001b[0m\n\u001b[0;32m     52\u001b[0m \u001b[1;31m# apply filters\u001b[0m\u001b[1;33m\u001b[0m\u001b[1;33m\u001b[0m\u001b[1;33m\u001b[0m\u001b[0m\n\u001b[1;32m---> 53\u001b[1;33m \u001b[0mavg3x3\u001b[0m \u001b[1;33m=\u001b[0m \u001b[0mfilter\u001b[0m\u001b[1;33m(\u001b[0m\u001b[0mimage\u001b[0m\u001b[1;33m,\u001b[0m \u001b[0mmode\u001b[0m\u001b[1;33m=\u001b[0m\u001b[1;34m'averaging'\u001b[0m\u001b[1;33m)\u001b[0m\u001b[1;33m\u001b[0m\u001b[1;33m\u001b[0m\u001b[0m\n\u001b[0m\u001b[0;32m     54\u001b[0m \u001b[0mmed3x3\u001b[0m \u001b[1;33m=\u001b[0m \u001b[0mfilter\u001b[0m\u001b[1;33m(\u001b[0m\u001b[0mimage\u001b[0m\u001b[1;33m,\u001b[0m \u001b[0mmode\u001b[0m\u001b[1;33m=\u001b[0m\u001b[1;34m'median'\u001b[0m\u001b[1;33m)\u001b[0m\u001b[1;33m\u001b[0m\u001b[1;33m\u001b[0m\u001b[0m\n\u001b[0;32m     55\u001b[0m \u001b[1;33m\u001b[0m\u001b[0m\n",
      "\u001b[1;32m<ipython-input-26-3c5a551bb8c4>\u001b[0m in \u001b[0;36mfilter\u001b[1;34m(image, mode, size, padding, stride)\u001b[0m\n\u001b[0;32m     21\u001b[0m \u001b[1;32mdef\u001b[0m \u001b[0mfilter\u001b[0m\u001b[1;33m(\u001b[0m\u001b[0mimage\u001b[0m \u001b[1;33m,\u001b[0m\u001b[0mmode\u001b[0m\u001b[1;33m=\u001b[0m\u001b[1;34m\"averaging\"\u001b[0m\u001b[1;33m,\u001b[0m \u001b[0msize\u001b[0m\u001b[1;33m=\u001b[0m\u001b[1;36m3\u001b[0m\u001b[1;33m,\u001b[0m \u001b[0mpadding\u001b[0m\u001b[1;33m=\u001b[0m\u001b[1;36m1\u001b[0m\u001b[1;33m,\u001b[0m \u001b[0mstride\u001b[0m\u001b[1;33m=\u001b[0m\u001b[1;36m1\u001b[0m\u001b[1;33m)\u001b[0m\u001b[1;33m:\u001b[0m\u001b[1;33m\u001b[0m\u001b[1;33m\u001b[0m\u001b[0m\n\u001b[0;32m     22\u001b[0m \u001b[1;33m\u001b[0m\u001b[0m\n\u001b[1;32m---> 23\u001b[1;33m     \u001b[0mimage\u001b[0m \u001b[1;33m=\u001b[0m \u001b[0mnp\u001b[0m\u001b[1;33m.\u001b[0m\u001b[0mpad\u001b[0m\u001b[1;33m(\u001b[0m\u001b[0mimage\u001b[0m\u001b[1;33m,\u001b[0m \u001b[1;33m[\u001b[0m\u001b[1;33m(\u001b[0m\u001b[0mpadding\u001b[0m\u001b[1;33m,\u001b[0m \u001b[0mpadding\u001b[0m\u001b[1;33m)\u001b[0m\u001b[1;33m,\u001b[0m \u001b[1;33m(\u001b[0m\u001b[0mpadding\u001b[0m\u001b[1;33m,\u001b[0m \u001b[0mpadding\u001b[0m\u001b[1;33m)\u001b[0m\u001b[1;33m]\u001b[0m\u001b[1;33m,\u001b[0m \u001b[0mmode\u001b[0m\u001b[1;33m=\u001b[0m\u001b[1;34m'symmetric'\u001b[0m\u001b[1;33m)\u001b[0m\u001b[1;33m\u001b[0m\u001b[1;33m\u001b[0m\u001b[0m\n\u001b[0m\u001b[0;32m     24\u001b[0m \u001b[1;33m\u001b[0m\u001b[0m\n\u001b[0;32m     25\u001b[0m     \u001b[0mkernel_height\u001b[0m\u001b[1;33m,\u001b[0m \u001b[0mkernel_width\u001b[0m \u001b[1;33m=\u001b[0m \u001b[1;33m(\u001b[0m\u001b[0msize\u001b[0m\u001b[1;33m,\u001b[0m\u001b[0msize\u001b[0m\u001b[1;33m)\u001b[0m\u001b[1;33m\u001b[0m\u001b[1;33m\u001b[0m\u001b[0m\n",
      "\u001b[1;32m<__array_function__ internals>\u001b[0m in \u001b[0;36mpad\u001b[1;34m(*args, **kwargs)\u001b[0m\n",
      "\u001b[1;32m~\\anaconda3\\envs\\myenv\\lib\\site-packages\\numpy\\lib\\arraypad.py\u001b[0m in \u001b[0;36mpad\u001b[1;34m(array, pad_width, mode, **kwargs)\u001b[0m\n\u001b[0;32m    741\u001b[0m \u001b[1;33m\u001b[0m\u001b[0m\n\u001b[0;32m    742\u001b[0m     \u001b[1;31m# Broadcast to shape (array.ndim, 2)\u001b[0m\u001b[1;33m\u001b[0m\u001b[1;33m\u001b[0m\u001b[1;33m\u001b[0m\u001b[0m\n\u001b[1;32m--> 743\u001b[1;33m     \u001b[0mpad_width\u001b[0m \u001b[1;33m=\u001b[0m \u001b[0m_as_pairs\u001b[0m\u001b[1;33m(\u001b[0m\u001b[0mpad_width\u001b[0m\u001b[1;33m,\u001b[0m \u001b[0marray\u001b[0m\u001b[1;33m.\u001b[0m\u001b[0mndim\u001b[0m\u001b[1;33m,\u001b[0m \u001b[0mas_index\u001b[0m\u001b[1;33m=\u001b[0m\u001b[1;32mTrue\u001b[0m\u001b[1;33m)\u001b[0m\u001b[1;33m\u001b[0m\u001b[1;33m\u001b[0m\u001b[0m\n\u001b[0m\u001b[0;32m    744\u001b[0m \u001b[1;33m\u001b[0m\u001b[0m\n\u001b[0;32m    745\u001b[0m     \u001b[1;32mif\u001b[0m \u001b[0mcallable\u001b[0m\u001b[1;33m(\u001b[0m\u001b[0mmode\u001b[0m\u001b[1;33m)\u001b[0m\u001b[1;33m:\u001b[0m\u001b[1;33m\u001b[0m\u001b[1;33m\u001b[0m\u001b[0m\n",
      "\u001b[1;32m~\\anaconda3\\envs\\myenv\\lib\\site-packages\\numpy\\lib\\arraypad.py\u001b[0m in \u001b[0;36m_as_pairs\u001b[1;34m(x, ndim, as_index)\u001b[0m\n\u001b[0;32m    516\u001b[0m     \u001b[1;31m# Converting the array with `tolist` seems to improve performance\u001b[0m\u001b[1;33m\u001b[0m\u001b[1;33m\u001b[0m\u001b[1;33m\u001b[0m\u001b[0m\n\u001b[0;32m    517\u001b[0m     \u001b[1;31m# when iterating and indexing the result (see usage in `pad`)\u001b[0m\u001b[1;33m\u001b[0m\u001b[1;33m\u001b[0m\u001b[1;33m\u001b[0m\u001b[0m\n\u001b[1;32m--> 518\u001b[1;33m     \u001b[1;32mreturn\u001b[0m \u001b[0mnp\u001b[0m\u001b[1;33m.\u001b[0m\u001b[0mbroadcast_to\u001b[0m\u001b[1;33m(\u001b[0m\u001b[0mx\u001b[0m\u001b[1;33m,\u001b[0m \u001b[1;33m(\u001b[0m\u001b[0mndim\u001b[0m\u001b[1;33m,\u001b[0m \u001b[1;36m2\u001b[0m\u001b[1;33m)\u001b[0m\u001b[1;33m)\u001b[0m\u001b[1;33m.\u001b[0m\u001b[0mtolist\u001b[0m\u001b[1;33m(\u001b[0m\u001b[1;33m)\u001b[0m\u001b[1;33m\u001b[0m\u001b[1;33m\u001b[0m\u001b[0m\n\u001b[0m\u001b[0;32m    519\u001b[0m \u001b[1;33m\u001b[0m\u001b[0m\n\u001b[0;32m    520\u001b[0m \u001b[1;33m\u001b[0m\u001b[0m\n",
      "\u001b[1;32m<__array_function__ internals>\u001b[0m in \u001b[0;36mbroadcast_to\u001b[1;34m(*args, **kwargs)\u001b[0m\n",
      "\u001b[1;32m~\\anaconda3\\envs\\myenv\\lib\\site-packages\\numpy\\lib\\stride_tricks.py\u001b[0m in \u001b[0;36mbroadcast_to\u001b[1;34m(array, shape, subok)\u001b[0m\n\u001b[0;32m    409\u001b[0m            [1, 2, 3]])\n\u001b[0;32m    410\u001b[0m     \"\"\"\n\u001b[1;32m--> 411\u001b[1;33m     \u001b[1;32mreturn\u001b[0m \u001b[0m_broadcast_to\u001b[0m\u001b[1;33m(\u001b[0m\u001b[0marray\u001b[0m\u001b[1;33m,\u001b[0m \u001b[0mshape\u001b[0m\u001b[1;33m,\u001b[0m \u001b[0msubok\u001b[0m\u001b[1;33m=\u001b[0m\u001b[0msubok\u001b[0m\u001b[1;33m,\u001b[0m \u001b[0mreadonly\u001b[0m\u001b[1;33m=\u001b[0m\u001b[1;32mTrue\u001b[0m\u001b[1;33m)\u001b[0m\u001b[1;33m\u001b[0m\u001b[1;33m\u001b[0m\u001b[0m\n\u001b[0m\u001b[0;32m    412\u001b[0m \u001b[1;33m\u001b[0m\u001b[0m\n\u001b[0;32m    413\u001b[0m \u001b[1;33m\u001b[0m\u001b[0m\n",
      "\u001b[1;32m~\\anaconda3\\envs\\myenv\\lib\\site-packages\\numpy\\lib\\stride_tricks.py\u001b[0m in \u001b[0;36m_broadcast_to\u001b[1;34m(array, shape, subok, readonly)\u001b[0m\n\u001b[0;32m    346\u001b[0m                          'negative')\n\u001b[0;32m    347\u001b[0m     \u001b[0mextras\u001b[0m \u001b[1;33m=\u001b[0m \u001b[1;33m[\u001b[0m\u001b[1;33m]\u001b[0m\u001b[1;33m\u001b[0m\u001b[1;33m\u001b[0m\u001b[0m\n\u001b[1;32m--> 348\u001b[1;33m     it = np.nditer(\n\u001b[0m\u001b[0;32m    349\u001b[0m         \u001b[1;33m(\u001b[0m\u001b[0marray\u001b[0m\u001b[1;33m,\u001b[0m\u001b[1;33m)\u001b[0m\u001b[1;33m,\u001b[0m \u001b[0mflags\u001b[0m\u001b[1;33m=\u001b[0m\u001b[1;33m[\u001b[0m\u001b[1;34m'multi_index'\u001b[0m\u001b[1;33m,\u001b[0m \u001b[1;34m'refs_ok'\u001b[0m\u001b[1;33m,\u001b[0m \u001b[1;34m'zerosize_ok'\u001b[0m\u001b[1;33m]\u001b[0m \u001b[1;33m+\u001b[0m \u001b[0mextras\u001b[0m\u001b[1;33m,\u001b[0m\u001b[1;33m\u001b[0m\u001b[1;33m\u001b[0m\u001b[0m\n\u001b[0;32m    350\u001b[0m         op_flags=['readonly'], itershape=shape, order='C')\n",
      "\u001b[1;31mValueError\u001b[0m: operands could not be broadcast together with remapped shapes [original->remapped]: (2,2)  and requested shape (0,2)"
     ]
    }
   ],
   "source": [
    "'''\n",
    "___OVERVIEW___\n",
    "CODE FOR QUESTION 2 - HW 3\n",
    "\n",
    "___SUMMARY___\n",
    "Filterning (linear and non-linear)\n",
    "\n",
    "___AUTHOR___\n",
    "Amirhossein Daraie — 9733023\n",
    "\n",
    "___DATE___\n",
    "18/April/2021\n",
    "29/01/1400\n",
    "\n",
    "'''\n",
    "\n",
    "import numpy as np\n",
    "import matplotlib.pyplot as plt\n",
    "import cv2\n",
    "\n",
    "def filter(image ,mode=\"averaging\", size=3, padding=1, stride=1):   \n",
    "    \n",
    "    image = np.pad(image, [(padding, padding), (padding, padding)], mode='symmetric')\n",
    "\n",
    "    kernel_height, kernel_width = (size,size)\n",
    "    padded_height, padded_width = image.shape\n",
    "\n",
    "    output_height = (padded_height - kernel_height) // stride + 1\n",
    "    output_width = (padded_width - kernel_width) // stride + 1\n",
    "\n",
    "    new_image = np.zeros((output_height, output_width)).astype(np.float32)       \n",
    "        \n",
    "    if mode == \"averaging\" :\n",
    "        kernel = np.ones((size,size))/size**2\n",
    "        for y in range(0, output_height):\n",
    "            for x in range(0, output_width):\n",
    "                new_image[y][x] = np.sum(image[y * stride:y * stride + kernel_height, \n",
    "                                                x * stride:x * stride + kernel_width] * kernel).astype(np.float32)\n",
    "                \n",
    "    elif mode == \"median\":\n",
    "        kernel = np.ones((size,size))\n",
    "        for y in range(0, output_height):\n",
    "            for x in range(0, output_width):\n",
    "                new_image[y][x] = np.median(image[y * stride:y * stride + kernel_height, \n",
    "                                                x * stride:x * stride + kernel_width]).astype(np.float32)\n",
    "\n",
    "    return new_image\n",
    "\n",
    "\n",
    "# load image\n",
    "image = cv2.imread(\"retina.jpg\", flags=cv2.IMREAD_GRAYSCALE)\n",
    "# apply filters\n",
    "avg3x3 = filter(image, mode='averaging')\n",
    "med3x3 = filter(image, mode='median')\n",
    "\n",
    "fig, ax = plt.subplots(1,3,figsize=(6,3))\n",
    "st = fig.suptitle(\"Average and Median\", fontsize=\"x-large\")\n",
    "\n",
    "ax[0].title.set_text('original')\n",
    "ax[0].imshow(image,vmin=avg3x3.min(),vmax=avg3x3.max(), cmap='gray', interpolation='nearest')\n",
    "\n",
    "ax[1].title.set_text('averaging (3x3)')\n",
    "ax[1].imshow(avg3x3,vmin=avg3x3.min(),vmax=avg3x3.max(), cmap='gray', interpolation='nearest')\n",
    "\n",
    "ax[2].title.set_text('median (3x3)')\n",
    "ax[2].imshow(med3x3,vmin=med3x3.min(),vmax=med3x3.max(), cmap='gray', interpolation='nearest')\n",
    "\n",
    "for axi in ax.ravel():\n",
    "    axi.axis('off')\n",
    "plt.tight_layout()\n",
    "# plt.savefig('9733023-2_image1.png', bbox_inches='tight')\n",
    "plt.show()"
   ]
  },
  {
   "cell_type": "code",
   "execution_count": null,
   "id": "circular-embassy",
   "metadata": {},
   "outputs": [],
   "source": [
    "image = cv2.imread(\"retina.jpg\", flags=cv2.IMREAD_GRAYSCALE)"
   ]
  },
  {
   "cell_type": "code",
   "execution_count": null,
   "id": "raised-greene",
   "metadata": {},
   "outputs": [],
   "source": [
    "image"
   ]
  },
  {
   "cell_type": "code",
   "execution_count": null,
   "id": "confident-cross",
   "metadata": {},
   "outputs": [],
   "source": [
    "def frange(start=0, stop=1, jump=0.1):\n",
    "    nsteps = int((stop-start)/jump)\n",
    "    dy = stop-start\n",
    "    # f(i) goes from start to stop as i goes from 0 to nsteps\n",
    "    return [start + float(i)*dy/nsteps for i in range(nsteps)]\n",
    "\n",
    "tsteps = frange(-2,2,0.01)"
   ]
  },
  {
   "cell_type": "code",
   "execution_count": null,
   "id": "rough-diving",
   "metadata": {},
   "outputs": [],
   "source": [
    "a = np.array([1, 2], dtype=np.float32)"
   ]
  },
  {
   "cell_type": "code",
   "execution_count": 27,
   "id": "excellent-newman",
   "metadata": {},
   "outputs": [],
   "source": [
    "a = np.asarray(a, dtype=\"uint8\" )"
   ]
  },
  {
   "cell_type": "code",
   "execution_count": 28,
   "id": "protected-glucose",
   "metadata": {},
   "outputs": [
    {
     "data": {
      "text/plain": [
       "numpy.ndarray"
      ]
     },
     "execution_count": 28,
     "metadata": {},
     "output_type": "execute_result"
    }
   ],
   "source": [
    "type(a[0])"
   ]
  },
  {
   "cell_type": "code",
   "execution_count": 29,
   "id": "caroline-ticket",
   "metadata": {},
   "outputs": [
    {
     "ename": "SyntaxError",
     "evalue": "(unicode error) 'unicodeescape' codec can't decode bytes in position 2-3: truncated \\UXXXXXXXX escape (<ipython-input-29-39cb42d83cc7>, line 205)",
     "output_type": "error",
     "traceback": [
      "\u001b[1;36m  File \u001b[1;32m\"<ipython-input-29-39cb42d83cc7>\"\u001b[1;36m, line \u001b[1;32m205\u001b[0m\n\u001b[1;33m    inputpath = 'C:\\Users\\asus\\Google Drive\\University\\Term 6 - 1399-0\\پردازش تصویر\\Assignments\\HW3\\frames-to-video'\u001b[0m\n\u001b[1;37m                ^\u001b[0m\n\u001b[1;31mSyntaxError\u001b[0m\u001b[1;31m:\u001b[0m (unicode error) 'unicodeescape' codec can't decode bytes in position 2-3: truncated \\UXXXXXXXX escape\n"
     ]
    }
   ],
   "source": [
    "'''\n",
    "___OVERVIEW___\n",
    "CODE FOR QUESTION 2 - HW 3\n",
    "\n",
    "___SUMMARY___\n",
    "Noise reduction with avg and median filters\n",
    "Intensity transformations: for contrast manipulation or image thresholding\n",
    "Power-Law (Gamma) Transformation\n",
    "\n",
    "\n",
    "___AUTHOR___\n",
    "Amirhossein Daraie — 9733023\n",
    "\n",
    "___DATE___\n",
    "18/April/2021\n",
    "29/01/1400\n",
    "\n",
    "'''\n",
    "\n",
    "'''\n",
    "Intensity transformations:\n",
    "1. Image Negatives (Linear)\n",
    "    s = L-1-r \n",
    "    r: initial intensity level\n",
    "    s: final intensity level\n",
    "2. Log Transformations\n",
    "    s = clog(1+r)\n",
    "    c: scaling constant given by 255/(log (1 + m))\n",
    "    m: maximum pixel value in image\n",
    "    * maps a narrow range of low-intensity input values to a wide range of output values\n",
    "3. Power-Law (Gamma) Transformations\n",
    "    s = cr^(gamma)\n",
    "    our eyes perceive images in a gamma-shaped curve, whereas cameras capture images in a linear fashion.\n",
    "    it prevents bleaching or darkening of images when viewed from different types of monitors \n",
    "4. Piecewise-Linear Transformation Functions\n",
    "'''\n",
    "\n",
    "import numpy as np\n",
    "import matplotlib.pyplot as plt\n",
    "import cv2\n",
    "import os\n",
    "\n",
    "\n",
    "def filter(image ,mode=\"averaging\", size=3, padding=1, stride=1):   \n",
    "    \n",
    "    image = np.pad(image, [(padding, padding), (padding, padding)], mode='symmetric')\n",
    "\n",
    "    kernel_height, kernel_width = (size,size)\n",
    "    padded_height, padded_width = image.shape\n",
    "\n",
    "    output_height = (padded_height - kernel_height) // stride + 1\n",
    "    output_width = (padded_width - kernel_width) // stride + 1\n",
    "\n",
    "    new_image = np.zeros((output_height, output_width)).astype(np.float32)       \n",
    "        \n",
    "    if mode == \"averaging\" :\n",
    "        kernel = np.ones((size,size))/size**2\n",
    "        for y in range(0, output_height):\n",
    "            for x in range(0, output_width):\n",
    "                new_image[y][x] = np.sum(image[y * stride:y * stride + kernel_height, \n",
    "                                                x * stride:x * stride + kernel_width] * kernel).astype(np.float32)\n",
    "                \n",
    "    elif mode == \"median\":\n",
    "        kernel = np.ones((size,size))\n",
    "        for y in range(0, output_height):\n",
    "            for x in range(0, output_width):\n",
    "                new_image[y][x] = np.median(image[y * stride:y * stride + kernel_height, \n",
    "                                                x * stride:x * stride + kernel_width]).astype(np.float32)\n",
    "                \n",
    "    elif mode == \"laplacian\":\n",
    "        kernel = np.array([[-1,-1,-1 ],\n",
    "                           [-1,8,-1],\n",
    "                           [-1,-1,-1]]) \n",
    "        for y in range(0, output_height):\n",
    "            for x in range(0, output_width):\n",
    "                new_image[y][x] = np.sum(image[y * stride:y * stride + kernel_height, \n",
    "                                                x * stride:x * stride + kernel_width] * kernel).astype(np.float32)\n",
    "\n",
    "    return new_image\n",
    "\n",
    "\n",
    "################################################################\n",
    "##### Part 1\n",
    "################################################################\n",
    "\n",
    "# load image\n",
    "image = cv2.imread(\"retina_image.jpg\", flags=cv2.IMREAD_GRAYSCALE)\n",
    "# apply filters\n",
    "avg3x3 = filter(image, mode='averaging')\n",
    "med3x3 = filter(image, mode='median')\n",
    "\n",
    "# fig, ax = plt.subplots(1,3,figsize=(6,3))\n",
    "# st = fig.suptitle(\"Average and Median\", fontsize=\"x-large\")\n",
    "\n",
    "# ax[0].title.set_text('original')\n",
    "# ax[0].imshow(image,vmin=image.min(),vmax=image.max(), cmap='gray', interpolation='nearest')\n",
    "\n",
    "# ax[1].title.set_text('averaging (3x3)')\n",
    "# ax[1].imshow(avg3x3,vmin=avg3x3.min(),vmax=avg3x3.max(), cmap='gray', interpolation='nearest')\n",
    "\n",
    "# ax[2].title.set_text('median (3x3)')\n",
    "# ax[2].imshow(med3x3,vmin=med3x3.min(),vmax=med3x3.max(), cmap='gray', interpolation='nearest')\n",
    "\n",
    "# for axi in ax.ravel():\n",
    "#     axi.axis('off')\n",
    "# plt.tight_layout()\n",
    "# # plt.savefig('9733023-3_image1.png', bbox_inches='tight')\n",
    "# plt.show()\n",
    "\n",
    "\n",
    "################################################################\n",
    "##### Part 2\n",
    "################################################################\n",
    "\n",
    "def gamma_transformation(image, gamma=1.2):\n",
    "    \"\"\"Power-Law (Gamma) Transformations\n",
    "    s = cr^(gamma)\n",
    "    our eyes perceive images in a gamma-shaped curve, whereas cameras capture images in a linear fashion.\n",
    "    it prevents bleaching or darkening of images when viewed from different types of monitors \n",
    "\n",
    "    Args:\n",
    "        image (numpy 8bit image): Input image\n",
    "        gamma (float, optional): gamma value can be 0.1, 0.5, 1.2, 2.2, etc. Defaults to 1.2.\n",
    "\n",
    "    Returns:\n",
    "        numpy 8bit image: Gamma corrected output\n",
    "    \"\"\"\n",
    "    gamma_corrected = np.array(255*(image / 255) ** gamma, dtype = 'uint8')\n",
    "    return gamma_corrected\n",
    "\n",
    "gamma_corr = gamma_transformation(med3x3,gamma=2/3)\n",
    "\n",
    "# fig, ax = plt.subplots(1,2,figsize=(6,4))\n",
    "# st = fig.suptitle(\"Gamma corrected image\", fontsize=\"x-large\")\n",
    "\n",
    "# ax[0].title.set_text('original')\n",
    "# ax[0].imshow(med3x3,vmin=med3x3.min(),vmax=med3x3.max(), cmap='gray', interpolation='nearest')\n",
    "\n",
    "# ax[1].title.set_text('output $γ=2/3$')\n",
    "# ax[1].imshow(gamma_corr,vmin=gamma_corr.min(),vmax=gamma_corr.max(), cmap='gray', interpolation='nearest')\n",
    "\n",
    "# for axi in ax.ravel():\n",
    "#     axi.axis('off')\n",
    "# plt.tight_layout()\n",
    "# # plt.savefig('9733023-3_image2.png', bbox_inches='tight')\n",
    "# plt.show()\n",
    "\n",
    "################################################################\n",
    "##### Part 3\n",
    "################################################################\n",
    "\n",
    "lap = filter(gamma_corr,mode='laplacian')\n",
    "gamma_corr2 = gamma_transformation(lap,gamma=1/3)\n",
    "\n",
    "# fig, ax = plt.subplots(1,3,figsize=(7,3))\n",
    "# st = fig.suptitle(\"Gamma corrected image\", fontsize=\"x-large\")\n",
    "\n",
    "# ax[0].title.set_text('gamma_corr')\n",
    "# ax[0].imshow(gamma_corr,vmin=gamma_corr.min(),vmax=gamma_corr.max(), cmap='gray', interpolation='nearest')\n",
    "\n",
    "# ax[1].title.set_text('laplacian')\n",
    "# ax[1].imshow(lap,vmin=lap.min(),vmax=lap.max(), cmap='gray', interpolation='nearest')\n",
    "\n",
    "# ax[2].title.set_text('output $γ=1/3$')\n",
    "# ax[2].imshow(gamma_corr2,vmin=gamma_corr2.min(),vmax=gamma_corr2.max(), cmap='gray', interpolation='nearest')\n",
    "\n",
    "# for axi in ax.ravel():\n",
    "#     axi.axis('off')\n",
    "# plt.tight_layout()\n",
    "# plt.savefig('9733023-3_image3.png', bbox_inches='tight')\n",
    "# plt.show()\n",
    "\n",
    "################################################################\n",
    "##### Part 4\n",
    "################################################################\n",
    "\n",
    "tsteps = np.arange(-2,2,0.01)\n",
    "gamma_corr = gamma_corr.astype(float)\n",
    "\n",
    "def frames_to_video(inputpath='./frames-to-video',outputpath='.',fps=24):\n",
    "    image_array = []\n",
    "    files = [f for f in os.listdir(inputpath) if isfile(join(inputpath, f))]\n",
    "    files.sort(key = lambda x: int(x[5:-4]))\n",
    "    for i in range(len(files)):\n",
    "        img = cv2.imread(inputpath + files[i])\n",
    "        size =  (img.shape[1],img.shape[0])\n",
    "        img = cv2.resize(img,size)\n",
    "        image_array.append(img)\n",
    "    fourcc = cv2.VideoWriter_fourcc('D', 'I', 'V', 'X')\n",
    "    out = cv2.VideoWriter(outputpath,fourcc, fps, size)\n",
    "    for i in range(len(image_array)):\n",
    "        out.write(image_array[i])\n",
    "    out.release()\n",
    "\n",
    "for i,ci in enumerate(tsteps):\n",
    "    frame = gamma_corr + ci*lap\n",
    "    frame[frame>255]=255\n",
    "    frame[frame<0]=0\n",
    "    frame = np.asarray(frame, dtype=\"uint8\") \n",
    "    # plt.imshow(frame, vmin=frame.min(), vmax=frame.max(), cmap='gray', interpolation='nearest')\n",
    "    plt.savefig(f'frame-{i}.png', bbox_inches='tight')\n",
    "    # plt.show()\n",
    "    # break\n",
    "\n",
    "inputpath = 'C:\\Users\\asus\\Google Drive\\University\\Term 6 - 1399-0\\پردازش تصویر\\Assignments\\HW3\\frames-to-video'\n",
    "outpath = './/video.mp4'\n",
    "fps = 24\n",
    "frames_to_video(inputpath, outpath, fps)\n"
   ]
  },
  {
   "cell_type": "code",
   "execution_count": null,
   "id": "coastal-bookmark",
   "metadata": {},
   "outputs": [],
   "source": [
    "frame = gamma_corr + -0.1*lap"
   ]
  },
  {
   "cell_type": "code",
   "execution_count": null,
   "id": "laden-stability",
   "metadata": {},
   "outputs": [],
   "source": [
    "frame[frame>255]=255\n",
    "frame[frame<0]=0\n",
    "frame = np.asarray(frame, dtype=\"uint8\") "
   ]
  },
  {
   "cell_type": "code",
   "execution_count": null,
   "id": "combined-pontiac",
   "metadata": {},
   "outputs": [],
   "source": [
    "fig = plt.imshow(frame, vmin=frame.min(), vmax=frame.max(), cmap='gray', interpolation='nearest')\n",
    "plt.axis('off')\n",
    "fig.axes.get_xaxis().set_visible(False)\n",
    "fig.axes.get_yaxis().set_visible(False)"
   ]
  },
  {
   "cell_type": "code",
   "execution_count": null,
   "id": "comparable-mistake",
   "metadata": {},
   "outputs": [],
   "source": []
  },
  {
   "cell_type": "code",
   "execution_count": 46,
   "id": "unknown-coupon",
   "metadata": {},
   "outputs": [
    {
     "data": {
      "text/plain": [
       "array([[64, 64, 64, ..., 64, 64, 64],\n",
       "       [64, 64, 64, ..., 64, 64, 64],\n",
       "       [64, 64, 64, ..., 64, 64, 64],\n",
       "       ...,\n",
       "       [64, 64, 64, ..., 64, 64, 64],\n",
       "       [64, 64, 64, ..., 64, 64, 64],\n",
       "       [64, 64, 64, ..., 64, 64, 64]], dtype=uint8)"
      ]
     },
     "execution_count": 46,
     "metadata": {},
     "output_type": "execute_result"
    }
   ],
   "source": [
    "plane = np.full((img.shape[0], img.shape[1]), 2 ** k, np.uint8)\n",
    "plane"
   ]
  },
  {
   "cell_type": "code",
   "execution_count": 62,
   "id": "sharing-there",
   "metadata": {},
   "outputs": [
    {
     "name": "stdout",
     "output_type": "stream",
     "text": [
      "(448, 464)\n"
     ]
    }
   ],
   "source": [
    "out = []\n",
    "k=6\n",
    "# create an image for the k bit plane\n",
    "plane = np.full((img.shape[0], img.shape[1]), 2 ** k, np.uint8)\n",
    "# execute bitwise and operation\n",
    "res = cv2.bitwise_and(plane, img)\n",
    "# multiply ones (bit plane sliced) with 255 just for better visualization\n",
    "x = res * 255\n",
    "# append to the output list\n",
    "out.append(x)\n",
    "outfinal = np.hstack(out)\n",
    "\n",
    "\n",
    "print(outfinal.shape)"
   ]
  },
  {
   "cell_type": "code",
   "execution_count": 95,
   "id": "christian-persian",
   "metadata": {},
   "outputs": [
    {
     "data": {
      "image/png": "[encoded data removed]",
      "text/plain": [
       "<Figure size 432x288 with 1 Axes>"
      ]
     },
     "metadata": {
      "needs_background": "light"
     },
     "output_type": "display_data"
    }
   ],
   "source": []
  },
  {
   "cell_type": "code",
   "execution_count": 36,
   "id": "appropriate-cliff",
   "metadata": {},
   "outputs": [
    {
     "data": {
      "text/plain": [
       "<matplotlib.image.AxesImage at 0x2216218fc40>"
      ]
     },
     "execution_count": 36,
     "metadata": {},
     "output_type": "execute_result"
    },
    {
     "data": {
      "image/png": "[encoded data removed]",
      "text/plain": [
       "<Figure size 432x288 with 1 Axes>"
      ]
     },
     "metadata": {
      "needs_background": "light"
     },
     "output_type": "display_data"
    }
   ],
   "source": [
    "plt.imshow(outfinal)"
   ]
  },
  {
   "cell_type": "code",
   "execution_count": null,
   "id": "ideal-patient",
   "metadata": {},
   "outputs": [],
   "source": []
  },
  {
   "cell_type": "code",
   "execution_count": null,
   "id": "synthetic-pollution",
   "metadata": {},
   "outputs": [],
   "source": []
  },
  {
   "cell_type": "code",
   "execution_count": null,
   "id": "realistic-victory",
   "metadata": {},
   "outputs": [],
   "source": []
  },
  {
   "cell_type": "code",
   "execution_count": null,
   "id": "fitted-compression",
   "metadata": {},
   "outputs": [],
   "source": []
  },
  {
   "cell_type": "code",
   "execution_count": null,
   "id": "ordered-flooring",
   "metadata": {},
   "outputs": [],
   "source": []
  },
  {
   "cell_type": "code",
   "execution_count": null,
   "id": "future-sender",
   "metadata": {},
   "outputs": [],
   "source": []
  },
  {
   "cell_type": "code",
   "execution_count": null,
   "id": "practical-davis",
   "metadata": {},
   "outputs": [],
   "source": []
  },
  {
   "cell_type": "code",
   "execution_count": null,
   "id": "elegant-answer",
   "metadata": {},
   "outputs": [],
   "source": []
  },
  {
   "cell_type": "code",
   "execution_count": null,
   "id": "promotional-forwarding",
   "metadata": {},
   "outputs": [],
   "source": []
  },
  {
   "cell_type": "code",
   "execution_count": null,
   "id": "uniform-deputy",
   "metadata": {},
   "outputs": [],
   "source": []
  },
  {
   "cell_type": "code",
   "execution_count": null,
   "id": "unusual-tenant",
   "metadata": {},
   "outputs": [],
   "source": []
  },
  {
   "cell_type": "code",
   "execution_count": null,
   "id": "attended-northeast",
   "metadata": {},
   "outputs": [],
   "source": []
  }
 ],
 "metadata": {
  "kernelspec": {
   "display_name": "Python 3",
   "language": "python",
   "name": "python3"
  },
  "language_info": {
   "codemirror_mode": {
    "name": "ipython",
    "version": 3
   },
   "file_extension": ".py",
   "mimetype": "text/x-python",
   "name": "python",
   "nbconvert_exporter": "python",
   "pygments_lexer": "ipython3",
   "version": "3.8.8"
  }
 },
 "nbformat": 4,
 "nbformat_minor": 5
}
