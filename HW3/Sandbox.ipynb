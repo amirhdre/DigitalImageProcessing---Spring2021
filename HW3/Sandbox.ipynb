{
 "cells": [
  {
   "cell_type": "code",
   "execution_count": 11,
   "id": "driven-australian",
   "metadata": {},
   "outputs": [],
   "source": [
    "import numpy as np"
   ]
  },
  {
   "cell_type": "code",
   "execution_count": 12,
   "id": "eligible-adelaide",
   "metadata": {},
   "outputs": [],
   "source": []
  },
  {
   "cell_type": "code",
   "execution_count": 17,
   "id": "solid-greene",
   "metadata": {},
   "outputs": [
    {
     "name": "stdout",
     "output_type": "stream",
     "text": [
      "((0, 0), 0.1111111111111111)\n",
      "((0, 1), 0.1111111111111111)\n",
      "((0, 2), 0.1111111111111111)\n",
      "((1, 0), 0.1111111111111111)\n",
      "((1, 1), 0.1111111111111111)\n",
      "((1, 2), 0.1111111111111111)\n",
      "((2, 0), 0.1111111111111111)\n",
      "((2, 1), 0.1111111111111111)\n",
      "((2, 2), 0.1111111111111111)\n"
     ]
    }
   ],
   "source": [
    "m = np.ones((3,3))/9\n",
    "x = np.ndenumerate(m)\n",
    "\n",
    "for i in x:\n",
    "    print(i)"
   ]
  },
  {
   "cell_type": "code",
   "execution_count": 19,
   "id": "marine-credit",
   "metadata": {},
   "outputs": [
    {
     "data": {
      "text/plain": [
       "array([[1., 1., 1.],\n",
       "       [1., 1., 1.],\n",
       "       [1., 1., 1.]])"
      ]
     },
     "execution_count": 19,
     "metadata": {},
     "output_type": "execute_result"
    }
   ],
   "source": [
    "np.ones((3,3))"
   ]
  },
  {
   "cell_type": "code",
   "execution_count": 31,
   "id": "supreme-yellow",
   "metadata": {},
   "outputs": [
    {
     "data": {
      "text/plain": [
       "array([[  5.,  10.,  -8.],\n",
       "       [-39.,  -4.,  26.],\n",
       "       [  1.,  -9.,   6.]])"
      ]
     },
     "execution_count": 31,
     "metadata": {},
     "output_type": "execute_result"
    }
   ],
   "source": [
    "a = np.round(np.random.randn(3,3)*20)\n",
    "a"
   ]
  },
  {
   "cell_type": "code",
   "execution_count": 33,
   "id": "about-preliminary",
   "metadata": {},
   "outputs": [
    {
     "data": {
      "text/plain": [
       "-39.0"
      ]
     },
     "execution_count": 33,
     "metadata": {},
     "output_type": "execute_result"
    }
   ],
   "source": [
    "np.min(a)\n"
   ]
  }
 ],
 "metadata": {
  "kernelspec": {
   "display_name": "Python 3",
   "language": "python",
   "name": "python3"
  },
  "language_info": {
   "codemirror_mode": {
    "name": "ipython",
    "version": 3
   },
   "file_extension": ".py",
   "mimetype": "text/x-python",
   "name": "python",
   "nbconvert_exporter": "python",
   "pygments_lexer": "ipython3",
   "version": "3.8.8"
  }
 },
 "nbformat": 4,
 "nbformat_minor": 5
}
