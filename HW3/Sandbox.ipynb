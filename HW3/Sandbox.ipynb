{
 "cells": [
  {
   "cell_type": "code",
   "execution_count": 11,
   "id": "satisfactory-harassment",
   "metadata": {},
   "outputs": [],
   "source": [
    "import numpy as np"
   ]
  },
  {
   "cell_type": "code",
   "execution_count": 12,
   "id": "sitting-meeting",
   "metadata": {},
   "outputs": [],
   "source": []
  },
  {
   "cell_type": "code",
   "execution_count": 17,
   "id": "thousand-delivery",
   "metadata": {},
   "outputs": [
    {
     "name": "stdout",
     "output_type": "stream",
     "text": [
      "((0, 0), 0.1111111111111111)\n",
      "((0, 1), 0.1111111111111111)\n",
      "((0, 2), 0.1111111111111111)\n",
      "((1, 0), 0.1111111111111111)\n",
      "((1, 1), 0.1111111111111111)\n",
      "((1, 2), 0.1111111111111111)\n",
      "((2, 0), 0.1111111111111111)\n",
      "((2, 1), 0.1111111111111111)\n",
      "((2, 2), 0.1111111111111111)\n"
     ]
    }
   ],
   "source": [
    "m = np.ones((3,3))/9\n",
    "x = np.ndenumerate(m)\n",
    "\n",
    "for i in x:\n",
    "    print(i)"
   ]
  },
  {
   "cell_type": "code",
   "execution_count": null,
   "id": "taken-medicare",
   "metadata": {},
   "outputs": [],
   "source": []
  }
 ],
 "metadata": {
  "kernelspec": {
   "display_name": "Python 3",
   "language": "python",
   "name": "python3"
  },
  "language_info": {
   "codemirror_mode": {
    "name": "ipython",
    "version": 3
   },
   "file_extension": ".py",
   "mimetype": "text/x-python",
   "name": "python",
   "nbconvert_exporter": "python",
   "pygments_lexer": "ipython3",
   "version": "3.8.8"
  }
 },
 "nbformat": 4,
 "nbformat_minor": 5
}
